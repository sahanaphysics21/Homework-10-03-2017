{
 "cells": [
  {
   "cell_type": "code",
   "execution_count": null,
   "metadata": {
    "collapsed": true
   },
   "outputs": [],
   "source": [
    "from numpy import exp,linspace \n",
    "from gaussxw import gaussxw,gaussxwab \n",
    "import matplotlib.pyplot as plt\n",
    "\n",
    "def f(x): \n",
    "    return x**4*exp(x)/(exp(x)-1)**2\n",
    "\n",
    "def Cv(T):\n",
    "    V=1e-3\n",
    "    p= 6.022e28\n",
    "    Kb = 1.38065e-23 \n",
    "    thetaD=428\n",
    "    A =  9*V*p*Kb*(T/theta(D))**3 \n",
    "    \n",
    "N = 50 \n",
    "a, b = 0, theta(D)/T \n",
    "xp,wp = gausswab(N,a,b)\n",
    "    \n",
    "I = 0 \n",
    "for i in range(N): \n",
    "    I += wp[i]*f(xp[i])\n",
    "return A*I\n",
    "\n",
    "T = linspace(5,500,496)\n",
    "Cvlist=[]\n",
    "for i in range(496):\n",
    "    Cvlist.append(Cv(T[i]))\n",
    "    \n",
    "plt.plot(T, Cvlist)\n",
    "plt.show()"
   ]
  }
 ],
 "metadata": {
  "kernelspec": {
   "display_name": "Python 3",
   "language": "python",
   "name": "python3"
  },
  "language_info": {
   "codemirror_mode": {
    "name": "ipython",
    "version": 3
   },
   "file_extension": ".py",
   "mimetype": "text/x-python",
   "name": "python",
   "nbconvert_exporter": "python",
   "pygments_lexer": "ipython3",
   "version": "3.6.1"
  }
 },
 "nbformat": 4,
 "nbformat_minor": 2
}
